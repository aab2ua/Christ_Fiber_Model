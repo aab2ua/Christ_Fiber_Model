{
 "cells": [
  {
   "cell_type": "markdown",
   "id": "692f2784-2931-4c30-86ee-0f4b81395154",
   "metadata": {},
   "source": [
    "# Kruskal Wallis Medians"
   ]
  },
  {
   "cell_type": "code",
   "execution_count": null,
   "id": "97ce6c57-9d2f-4e5f-8dbf-9838e3114d29",
   "metadata": {},
   "outputs": [],
   "source": []
  },
  {
   "cell_type": "code",
   "execution_count": 5,
   "id": "fbd5f1b3-e31f-4542-bea1-8f22de4832aa",
   "metadata": {},
   "outputs": [],
   "source": [
    "from scipy import stats            \n",
    "import os \n",
    "import pandas as pd\n",
    "import numpy as np"
   ]
  },
  {
   "cell_type": "code",
   "execution_count": 2,
   "id": "aa744017-2851-4300-a2d3-1810de67d589",
   "metadata": {},
   "outputs": [],
   "source": [
    "og_path = \"/Users/aartheebaskaran/Documents/Fiber_Project/Stat Analysis\"\n",
    "os.chdir(og_path)"
   ]
  },
  {
   "cell_type": "markdown",
   "id": "010855a1-34aa-46e2-bffd-89a9e5ddfe81",
   "metadata": {},
   "source": [
    "### Parsing through folders, assigning the core minFD raw values to each group"
   ]
  },
  {
   "cell_type": "code",
   "execution_count": 3,
   "id": "5e5604e0-f26b-49dc-b2e9-d0aa819be30d",
   "metadata": {},
   "outputs": [],
   "source": [
    "folder_list = os.listdir()          #https://stackoverflow.com/questions/3207219/how-do-i-list-all-files-of-a-directory\n",
    "del folder_list[0]\n",
    "\n",
    "d = {}\n",
    "\n",
    "for i in range(0, len(folder_list)): \n",
    "    folder = folder_list[i]\n",
    "    path = og_path + \"/\" + folder\n",
    "    os.chdir(path)\n",
    "    data = pd.read_csv(\"core_minFD_Raw.csv\")\n",
    "    data = data.iloc[:,1]\n",
    "    data = data.tolist()\n",
    "    d[format(folder)] = data"
   ]
  },
  {
   "cell_type": "code",
   "execution_count": 4,
   "id": "0b60ad62-32ff-4e34-a23f-0dfbee1bac52",
   "metadata": {},
   "outputs": [],
   "source": [
    "x = []\n",
    "for key in d.keys():\n",
    "    x.append(d[key])"
   ]
  },
  {
   "cell_type": "code",
   "execution_count": 21,
   "id": "d3a1e018-1e16-4ad6-956b-abf7f015a3dd",
   "metadata": {},
   "outputs": [
    {
     "data": {
      "text/plain": [
       "KruskalResult(statistic=0.9278923226611346, pvalue=0.33541120325220136)"
      ]
     },
     "execution_count": 21,
     "metadata": {},
     "output_type": "execute_result"
    }
   ],
   "source": [
    " #https://docs.scipy.org/doc/scipy/reference/generated/scipy.stats.kruskal.html\n",
    "stats.kruskal(x[0], x[1], x[2], x[3], x[4])"
   ]
  },
  {
   "cell_type": "code",
   "execution_count": 6,
   "id": "49b18e64-ec98-459f-8227-4387a7a281e6",
   "metadata": {},
   "outputs": [
    {
     "data": {
      "text/plain": [
       "(28.84836543, 28.50342812, 31.061554805, 27.200076815000003, 27.495641555)"
      ]
     },
     "execution_count": 6,
     "metadata": {},
     "output_type": "execute_result"
    }
   ],
   "source": [
    "np.median(x[0], axis = 0), np.median(x[1], axis = 0), np.median(x[2], axis = 0), np.median(x[3], axis = 0), np.median(x[4], axis = 0)"
   ]
  },
  {
   "cell_type": "markdown",
   "id": "dda01cd0-6d1e-4aa3-9612-1cce0ed736db",
   "metadata": {},
   "source": [
    "# Ratio of outer vs core - change this so its median not length"
   ]
  },
  {
   "cell_type": "code",
   "execution_count": 7,
   "id": "dbfdee23-d776-4404-a4b0-589ed1f896b3",
   "metadata": {},
   "outputs": [],
   "source": [
    "og_path = \"/Users/aartheebaskaran/Documents/Fiber_Project/Stat Analysis\"\n",
    "os.chdir(og_path)\n",
    "\n",
    "folder_list = os.listdir()          #https://stackoverflow.com/questions/3207219/how-do-i-list-all-files-of-a-directory\n",
    "del folder_list[0]\n",
    "\n",
    "core = {}\n",
    "outer = {}\n",
    "\n",
    "for i in range(0, len(folder_list)): \n",
    "    folder = folder_list[i]\n",
    "    path = og_path + \"/\" + folder\n",
    "    os.chdir(path)\n",
    "    \n",
    "    data = pd.read_csv(\"core_minFD_Raw.csv\")\n",
    "    length_core = len(data)\n",
    "    core[format(folder)] = length_core\n",
    "    \n",
    "    data2 = pd.read_csv(\"outer_minFD_Raw.csv\")\n",
    "    length_outer = len(data2)\n",
    "    outer[format(folder)] = length_outer"
   ]
  },
  {
   "cell_type": "code",
   "execution_count": 8,
   "id": "99670a5a-47e9-4a30-b6b6-4eb739b8978a",
   "metadata": {},
   "outputs": [],
   "source": [
    "core_list = []\n",
    "for key in core.keys():\n",
    "    core_list.append(core[key])"
   ]
  },
  {
   "cell_type": "code",
   "execution_count": 9,
   "id": "490036fa-921c-41ea-a8b3-0bace3159406",
   "metadata": {},
   "outputs": [],
   "source": [
    "outer_list = []\n",
    "for key in outer.keys():\n",
    "    outer_list.append(outer[key])"
   ]
  },
  {
   "cell_type": "code",
   "execution_count": 10,
   "id": "b3e0d220-e605-407e-804e-19abc3c40d8a",
   "metadata": {},
   "outputs": [
    {
     "data": {
      "text/plain": [
       "5"
      ]
     },
     "execution_count": 10,
     "metadata": {},
     "output_type": "execute_result"
    }
   ],
   "source": [
    "len(core_list)"
   ]
  },
  {
   "cell_type": "code",
   "execution_count": 11,
   "id": "2edd0a53-8457-4de2-8688-05906cee2140",
   "metadata": {},
   "outputs": [
    {
     "name": "stdout",
     "output_type": "stream",
     "text": [
      "0.33494957331264547\n",
      "0.4255443234836703\n",
      "0.29462738301559793\n",
      "0.5872050595962053\n",
      "0.4537357743691242\n"
     ]
    }
   ],
   "source": [
    "# Ratio of core to outer fiber count of each image\n",
    "ratio = [] \n",
    "for i in range(0, len(core_list)):\n",
    "    ratio.append(core_list[i]/outer_list[i])\n",
    "    print(ratio[i])"
   ]
  },
  {
   "cell_type": "code",
   "execution_count": 16,
   "id": "effe40ed-e24f-4699-8545-1c7abb4dca79",
   "metadata": {},
   "outputs": [
    {
     "data": {
      "text/plain": [
       "5"
      ]
     },
     "execution_count": 16,
     "metadata": {},
     "output_type": "execute_result"
    }
   ],
   "source": [
    "len(ratio)"
   ]
  },
  {
   "cell_type": "code",
   "execution_count": 19,
   "id": "5799e476-0568-4f52-b0e6-077b8cb63bda",
   "metadata": {},
   "outputs": [
    {
     "ename": "SyntaxError",
     "evalue": "unmatched ')' (<ipython-input-19-dc3c5e6e75c6>, line 1)",
     "output_type": "error",
     "traceback": [
      "\u001b[0;36m  File \u001b[0;32m\"<ipython-input-19-dc3c5e6e75c6>\"\u001b[0;36m, line \u001b[0;32m1\u001b[0m\n\u001b[0;31m    stats.kruskal(0.33494957331264547, 0.4255443234836703, 0.29462738301559793, 0.5872050595962053, 0.4537357743691242))\u001b[0m\n\u001b[0m                                                                                                                       ^\u001b[0m\n\u001b[0;31mSyntaxError\u001b[0m\u001b[0;31m:\u001b[0m unmatched ')'\n"
     ]
    }
   ],
   "source": [
    "stats.kruskal(ratio[0], ratio[1], ratio[2], ratio[3], ratio[4])"
   ]
  },
  {
   "cell_type": "markdown",
   "id": "7e4a4aa8-a0fb-4b99-acc1-03342af93e16",
   "metadata": {},
   "source": [
    "# Function for creating names"
   ]
  },
  {
   "cell_type": "code",
   "execution_count": 51,
   "id": "6d6c7124-7985-42a0-bc2a-4ef45b64152f",
   "metadata": {},
   "outputs": [],
   "source": [
    "def short_name(folder):\n",
    "    \n",
    "    name = \"\"\n",
    "    \n",
    "    for i in range(0, len(folder)):\n",
    "        while folder[i] != \" \":\n",
    "            name = name + (folder[i])\n",
    "        first_space = i\n",
    "        break\n",
    "    \n",
    "    name = name + \" \"\n",
    "    \n",
    "    for j in range(first_space+1, len(folder)):\n",
    "        if folder[j].isdigit():\n",
    "            name  = name + folder[j]\n",
    "        if folder[j-1].isdigit(): \n",
    "            sec_break = j\n",
    "            break\n",
    "            \n",
    "    for k in range(sec_break, sec_break+4):\n",
    "        name = name + folder[k]\n",
    "\n",
    "    return name "
   ]
  },
  {
   "cell_type": "code",
   "execution_count": 52,
   "id": "00bd5dec-5566-4d6c-abe9-fada936a149b",
   "metadata": {},
   "outputs": [
    {
     "ename": "KeyboardInterrupt",
     "evalue": "",
     "output_type": "error",
     "traceback": [
      "\u001b[0;31m---------------------------------------------------------------------------\u001b[0m",
      "\u001b[0;31mKeyboardInterrupt\u001b[0m                         Traceback (most recent call last)",
      "\u001b[0;32m<ipython-input-52-f6a31087ac62>\u001b[0m in \u001b[0;36m<module>\u001b[0;34m\u001b[0m\n\u001b[0;32m----> 1\u001b[0;31m \u001b[0mprint\u001b[0m\u001b[0;34m(\u001b[0m\u001b[0mshort_name\u001b[0m\u001b[0;34m(\u001b[0m\u001b[0mfolder\u001b[0m\u001b[0;34m)\u001b[0m\u001b[0;34m)\u001b[0m\u001b[0;34m\u001b[0m\u001b[0;34m\u001b[0m\u001b[0m\n\u001b[0m",
      "\u001b[0;32m<ipython-input-51-d0b1e2a250b9>\u001b[0m in \u001b[0;36mshort_name\u001b[0;34m(folder)\u001b[0m\n\u001b[1;32m      5\u001b[0m     \u001b[0;32mfor\u001b[0m \u001b[0mi\u001b[0m \u001b[0;32min\u001b[0m \u001b[0mrange\u001b[0m\u001b[0;34m(\u001b[0m\u001b[0;36m0\u001b[0m\u001b[0;34m,\u001b[0m \u001b[0mlen\u001b[0m\u001b[0;34m(\u001b[0m\u001b[0mfolder\u001b[0m\u001b[0;34m)\u001b[0m\u001b[0;34m)\u001b[0m\u001b[0;34m:\u001b[0m\u001b[0;34m\u001b[0m\u001b[0;34m\u001b[0m\u001b[0m\n\u001b[1;32m      6\u001b[0m         \u001b[0;32mwhile\u001b[0m \u001b[0mfolder\u001b[0m\u001b[0;34m[\u001b[0m\u001b[0mi\u001b[0m\u001b[0;34m]\u001b[0m \u001b[0;34m!=\u001b[0m \u001b[0;34m\" \"\u001b[0m\u001b[0;34m:\u001b[0m\u001b[0;34m\u001b[0m\u001b[0;34m\u001b[0m\u001b[0m\n\u001b[0;32m----> 7\u001b[0;31m             \u001b[0mname\u001b[0m \u001b[0;34m=\u001b[0m \u001b[0mname\u001b[0m \u001b[0;34m+\u001b[0m \u001b[0;34m(\u001b[0m\u001b[0mfolder\u001b[0m\u001b[0;34m[\u001b[0m\u001b[0mi\u001b[0m\u001b[0;34m]\u001b[0m\u001b[0;34m)\u001b[0m\u001b[0;34m\u001b[0m\u001b[0;34m\u001b[0m\u001b[0m\n\u001b[0m\u001b[1;32m      8\u001b[0m         \u001b[0mfirst_space\u001b[0m \u001b[0;34m=\u001b[0m \u001b[0mi\u001b[0m\u001b[0;34m\u001b[0m\u001b[0;34m\u001b[0m\u001b[0m\n\u001b[1;32m      9\u001b[0m         \u001b[0;32mbreak\u001b[0m\u001b[0;34m\u001b[0m\u001b[0;34m\u001b[0m\u001b[0m\n",
      "\u001b[0;31mKeyboardInterrupt\u001b[0m: "
     ]
    }
   ],
   "source": [
    "print(short_name(folder))"
   ]
  },
  {
   "cell_type": "markdown",
   "id": "f0f040b9-0117-490e-86fe-048ef3e5f0e5",
   "metadata": {},
   "source": [
    "# Variability between different treatment groups"
   ]
  },
  {
   "cell_type": "markdown",
   "id": "16f35ca1-9301-4e9e-accf-9e24eae8fd8c",
   "metadata": {},
   "source": [
    "## Getting list of values for HyA"
   ]
  },
  {
   "cell_type": "code",
   "execution_count": 6,
   "id": "0f7979ff-af8c-4bbf-8280-a11adc3fd0c0",
   "metadata": {},
   "outputs": [],
   "source": [
    "import os\n",
    "\n",
    "og_path = \"/Users/aartheebaskaran/Documents/Fiber_Project/Stat_Analysis/HyA_analysis\"\n",
    "os.chdir(og_path)"
   ]
  },
  {
   "cell_type": "code",
   "execution_count": 7,
   "id": "4c008d0e-b9c4-442d-a2f5-6dc09891585a",
   "metadata": {},
   "outputs": [],
   "source": [
    "group_list = os.listdir()          #https://stackoverflow.com/questions/3207219/how-do-i-list-all-files-of-a-directory\n",
    "\n",
    "groups = {}\n",
    "\n",
    "for i in range(0, len(group_list)): \n",
    "    group = group_list[i]\n",
    "    if group != \".DS_Store\":\n",
    "        path = og_path + \"/\" + group\n",
    "        os.chdir(path)\n",
    "        data = pd.read_csv(\"minFD_Raw.csv\")\n",
    "        data = data.iloc[:,2]\n",
    "        data = data.tolist()\n",
    "        groups[format(group)] = data"
   ]
  },
  {
   "cell_type": "code",
   "execution_count": 8,
   "id": "33f468f3-9d08-429a-979c-039a715c1fed",
   "metadata": {},
   "outputs": [],
   "source": [
    "HyA = []\n",
    "for key in groups.keys():\n",
    "    HyA.append(groups[key])"
   ]
  },
  {
   "cell_type": "markdown",
   "id": "a44d1bd9-5d07-4bc7-960a-c397396ab02c",
   "metadata": {},
   "source": [
    "## Check medians for each sample"
   ]
  },
  {
   "cell_type": "code",
   "execution_count": 9,
   "id": "bbe2d954-b391-4bf3-ba1f-55c7ff9b1ca1",
   "metadata": {},
   "outputs": [
    {
     "name": "stdout",
     "output_type": "stream",
     "text": [
      "HyA 0: 37.83427017929648\n",
      "HyA 1: 29.2164561542736\n",
      "HyA 2: 32.58473117707672\n",
      "HyA 3: 28.55179946686633\n",
      "HyA 4: 29.163325558586166\n",
      "HyA 5: 27.27185542570669\n"
     ]
    }
   ],
   "source": [
    "import statistics\n",
    "\n",
    "HyA_meds = {}\n",
    "\n",
    "for i in range(0, len(HyA)):\n",
    "    med = statistics.median(HyA[i])\n",
    "    print(\"HyA \" + str(i) + \": \" + str(med))\n",
    "    name = \"HyA \" + str(i)\n",
    "    HyA_meds[format(name)] = med"
   ]
  },
  {
   "cell_type": "code",
   "execution_count": 10,
   "id": "0fab6b42-aba3-46d1-991a-795120d4ed0f",
   "metadata": {},
   "outputs": [],
   "source": [
    "HyA_meds2 = []\n",
    "for key in HyA_meds.keys():\n",
    "    HyA_meds2.append(HyA_meds[key])"
   ]
  },
  {
   "cell_type": "code",
   "execution_count": 11,
   "id": "712d3938-584d-4fc1-ae76-311bd61df9ac",
   "metadata": {},
   "outputs": [
    {
     "data": {
      "text/plain": [
       "[37.83427017929648,\n",
       " 29.2164561542736,\n",
       " 32.58473117707672,\n",
       " 28.55179946686633,\n",
       " 29.163325558586166,\n",
       " 27.27185542570669]"
      ]
     },
     "execution_count": 11,
     "metadata": {},
     "output_type": "execute_result"
    }
   ],
   "source": [
    "HyA_meds2"
   ]
  },
  {
   "cell_type": "code",
   "execution_count": 12,
   "id": "992d52a3-e2b8-4cf0-8958-85312d8476ba",
   "metadata": {},
   "outputs": [
    {
     "data": {
      "text/plain": [
       "29.189890856429884"
      ]
     },
     "execution_count": 12,
     "metadata": {},
     "output_type": "execute_result"
    }
   ],
   "source": [
    "statistics.median(HyA_meds2)"
   ]
  },
  {
   "cell_type": "markdown",
   "id": "914befa7-66c7-4023-96f1-5c6adce50213",
   "metadata": {},
   "source": [
    "## Getting list of values for TEMR"
   ]
  },
  {
   "cell_type": "code",
   "execution_count": 13,
   "id": "364e075b-bf5b-41f3-870d-1dd27501fc42",
   "metadata": {},
   "outputs": [],
   "source": [
    "import os\n",
    "\n",
    "og_path = \"/Users/aartheebaskaran/Documents/Fiber_Project/Stat_Analysis/TEMR analysis\"\n",
    "os.chdir(og_path)"
   ]
  },
  {
   "cell_type": "code",
   "execution_count": 14,
   "id": "69ff6f88-81ec-435a-b1b7-8eadf6ff8279",
   "metadata": {},
   "outputs": [],
   "source": [
    "group_list = os.listdir()          #https://stackoverflow.com/questions/3207219/how-do-i-list-all-files-of-a-directory\n",
    "\n",
    "groups = {}\n",
    "\n",
    "for i in range(0, len(group_list)): \n",
    "    group = group_list[i]\n",
    "    if group != \".DS_Store\":\n",
    "        path = og_path + \"/\" + group\n",
    "        os.chdir(path)\n",
    "        data = pd.read_csv(\"core_minFD_Raw.csv\")\n",
    "        data = data.iloc[:,1]\n",
    "        data = data.tolist()\n",
    "        groups[format(group)] = data"
   ]
  },
  {
   "cell_type": "code",
   "execution_count": 15,
   "id": "18a38266-5a88-4065-b4ab-ded803c57857",
   "metadata": {},
   "outputs": [],
   "source": [
    "TEMR = []\n",
    "for key in groups.keys():\n",
    "    TEMR.append(groups[key])"
   ]
  },
  {
   "cell_type": "markdown",
   "id": "3347b492-bb1a-4496-b15d-4dd55ffd5b78",
   "metadata": {},
   "source": [
    "## Check medians of each sample"
   ]
  },
  {
   "cell_type": "code",
   "execution_count": 16,
   "id": "7ef7e1ea-d89a-4628-8534-ba2b9a17219b",
   "metadata": {},
   "outputs": [
    {
     "name": "stdout",
     "output_type": "stream",
     "text": [
      "TEMR 0: 28.84836543\n",
      "TEMR 1: 28.50342812\n",
      "TEMR 2: 31.061554805\n",
      "TEMR 3: 27.200076815000003\n",
      "TEMR 4: 27.495641555\n"
     ]
    }
   ],
   "source": [
    "import statistics\n",
    "\n",
    "TEMR_meds = {}\n",
    "\n",
    "for i in range(0, len(TEMR)):\n",
    "    med = statistics.median(TEMR[i])\n",
    "    print(\"TEMR \" + str(i) + \": \" + str(med))\n",
    "    name = \"TEMR \" + str(i)\n",
    "    TEMR_meds[format(name)] = med"
   ]
  },
  {
   "cell_type": "code",
   "execution_count": 17,
   "id": "8901f585-9e38-4c8a-a9a3-fd06a06da017",
   "metadata": {},
   "outputs": [],
   "source": [
    "TEMR_meds2 = []\n",
    "for key in TEMR_meds.keys():\n",
    "    TEMR_meds2.append(TEMR_meds[key])"
   ]
  },
  {
   "cell_type": "markdown",
   "id": "303f91b7-8eed-4aaf-bab9-4795ae37d77c",
   "metadata": {},
   "source": [
    "## Kruskal Wallis Median Test"
   ]
  },
  {
   "cell_type": "code",
   "execution_count": 18,
   "id": "60636cc0-3a02-4949-ab8d-f199c0ecbcef",
   "metadata": {},
   "outputs": [
    {
     "data": {
      "text/plain": [
       "KruskalResult(statistic=1.63333333333334, pvalue=0.2012426209577194)"
      ]
     },
     "execution_count": 18,
     "metadata": {},
     "output_type": "execute_result"
    }
   ],
   "source": [
    "stats.kruskal(HyA_meds2, TEMR_meds2)"
   ]
  },
  {
   "cell_type": "code",
   "execution_count": 19,
   "id": "b5a2c327-3a14-41b2-8bee-537160811cd0",
   "metadata": {},
   "outputs": [],
   "source": [
    "total = [HyA_meds2, TEMR_meds2]"
   ]
  },
  {
   "cell_type": "code",
   "execution_count": 23,
   "id": "04256c89-d36b-48e2-a1cd-be2be5aaf054",
   "metadata": {},
   "outputs": [],
   "source": [
    "os.chdir(\"/Users/aartheebaskaran/Documents/Fiber_Project/Stat_Analysis\")"
   ]
  },
  {
   "cell_type": "code",
   "execution_count": 30,
   "id": "a7cf3ee8-74d8-4311-90e1-977eeaf122a0",
   "metadata": {},
   "outputs": [
    {
     "data": {
      "image/png": "[encoded data removed]",
      "text/plain": [
       "<Figure size 576x432 with 1 Axes>"
      ]
     },
     "metadata": {
      "needs_background": "light"
     },
     "output_type": "display_data"
    }
   ],
   "source": [
    "import matplotlib.pyplot as plt\n",
    "\n",
    "plt.figure(figsize=(8,6))\n",
    "plt.boxplot(HyA_meds2)\n",
    "plt.title(\"Boxplot of HyA medians\")\n",
    "plt.savefig(\"Boxplot of HyA medians\", transparent = False)\n",
    "plt.show()"
   ]
  },
  {
   "cell_type": "code",
   "execution_count": 32,
   "id": "35489c79-44bd-4e6a-8783-d4e185a5e37b",
   "metadata": {},
   "outputs": [
    {
     "data": {
      "image/png": "[encoded data removed]",
      "text/plain": [
       "<Figure size 576x432 with 1 Axes>"
      ]
     },
     "metadata": {
      "needs_background": "light"
     },
     "output_type": "display_data"
    }
   ],
   "source": [
    "plt.figure(figsize=(8,6))\n",
    "plt.boxplot(TEMR_meds2)\n",
    "plt.title(\"Boxplot of TEMR medians\")\n",
    "plt.savefig(\"Boxplot of TEMR medians\", transparent = False)\n",
    "plt.show()"
   ]
  },
  {
   "cell_type": "code",
   "execution_count": 36,
   "id": "134aea52-7671-49bb-a8ce-88ee103306cb",
   "metadata": {},
   "outputs": [
    {
     "data": {
      "image/png": "[encoded data removed]",
      "text/plain": [
       "<Figure size 576x432 with 1 Axes>"
      ]
     },
     "metadata": {
      "needs_background": "light"
     },
     "output_type": "display_data"
    }
   ],
   "source": [
    "plt.figure(figsize=(8,6))\n",
    "plt.boxplot(total)\n",
    "plt.title(\"Boxplot of HyA and TEMR medians\")\n",
    "plt.savefig(\"Boxplot of HyA and TEMR medians\", transparent = False)\n",
    "plt.show()"
   ]
  },
  {
   "cell_type": "code",
   "execution_count": 34,
   "id": "5a02a7a5-4a81-4cf4-831e-7e24a77ba234",
   "metadata": {},
   "outputs": [
    {
     "data": {
      "image/png": "[encoded data removed]",
      "text/plain": [
       "<Figure size 576x432 with 1 Axes>"
      ]
     },
     "metadata": {
      "needs_background": "light"
     },
     "output_type": "display_data"
    }
   ],
   "source": [
    "plt.figure(figsize=(8,6))\n",
    "plt.boxplot(HyA)\n",
    "plt.title(\"Boxplot of HyA samples\")\n",
    "plt.savefig(\"Boxplot of HyA samples\", transparent = False)\n",
    "plt.show()"
   ]
  },
  {
   "cell_type": "code",
   "execution_count": 35,
   "id": "0b16ffff-918e-4749-bb86-fb7a3dbc5c80",
   "metadata": {},
   "outputs": [
    {
     "data": {
      "image/png": "[encoded data removed]",
      "text/plain": [
       "<Figure size 576x432 with 1 Axes>"
      ]
     },
     "metadata": {
      "needs_background": "light"
     },
     "output_type": "display_data"
    }
   ],
   "source": [
    "plt.figure(figsize=(8,6))\n",
    "plt.boxplot(TEMR)\n",
    "plt.title(\"Boxplot of TEMR samples\")\n",
    "plt.savefig(\"Boxplot of TEMR samples\", transparent = False)\n",
    "plt.show()"
   ]
  }
 ],
 "metadata": {
  "kernelspec": {
   "display_name": "Python 3",
   "language": "python",
   "name": "python3"
  },
  "language_info": {
   "codemirror_mode": {
    "name": "ipython",
    "version": 3
   },
   "file_extension": ".py",
   "mimetype": "text/x-python",
   "name": "python",
   "nbconvert_exporter": "python",
   "pygments_lexer": "ipython3",
   "version": "3.8.8"
  }
 },
 "nbformat": 4,
 "nbformat_minor": 5
}
